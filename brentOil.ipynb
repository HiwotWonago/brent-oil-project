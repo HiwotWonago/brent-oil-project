{
 "cells": [
  {
   "cell_type": "code",
   "execution_count": 1,
   "id": "dcdfe933-4fd9-43c5-ba43-fb3079efeaf8",
   "metadata": {},
   "outputs": [],
   "source": [
    "!python -m venv venv"
   ]
  },
  {
   "cell_type": "code",
   "execution_count": 4,
   "id": "44248316-2466-4b94-80f4-7b3de4276d81",
   "metadata": {},
   "outputs": [
    {
     "name": "stderr",
     "output_type": "stream",
     "text": [
      "'venv' is not recognized as an internal or external command,\n",
      "operable program or batch file.\n"
     ]
    }
   ],
   "source": [
    "!venv/Scripts/pip install ipykernel"
   ]
  },
  {
   "cell_type": "code",
   "execution_count": 1,
   "id": "134389bc-6682-4c38-a92b-6caeee818e4b",
   "metadata": {},
   "outputs": [
    {
     "name": "stdout",
     "output_type": "stream",
     "text": [
      "Collecting pandas\n",
      "  Downloading pandas-2.3.1-cp313-cp313-win_amd64.whl.metadata (19 kB)\n",
      "Collecting pymc3\n",
      "  Downloading pymc3-3.11.6-py3-none-any.whl.metadata (15 kB)\n",
      "Collecting matplotlib\n",
      "  Downloading matplotlib-3.10.5-cp313-cp313-win_amd64.whl.metadata (11 kB)\n",
      "Collecting numpy>=1.26.0 (from pandas)\n",
      "  Downloading numpy-2.3.2-cp313-cp313-win_amd64.whl.metadata (60 kB)\n",
      "Requirement already satisfied: python-dateutil>=2.8.2 in c:\\users\\etale\\documents\\week10\\venv\\lib\\site-packages (from pandas) (2.9.0.post0)\n",
      "Collecting pytz>=2020.1 (from pandas)\n",
      "  Downloading pytz-2025.2-py2.py3-none-any.whl.metadata (22 kB)\n",
      "Collecting tzdata>=2022.7 (from pandas)\n",
      "  Downloading tzdata-2025.2-py2.py3-none-any.whl.metadata (1.4 kB)\n",
      "Collecting arviz>=0.11.0 (from pymc3)\n",
      "  Downloading arviz-0.22.0-py3-none-any.whl.metadata (8.9 kB)\n",
      "Collecting cachetools>=4.2.1 (from pymc3)\n",
      "  Downloading cachetools-6.1.0-py3-none-any.whl.metadata (5.4 kB)\n",
      "Collecting deprecat (from pymc3)\n",
      "  Downloading deprecat-2.1.3-py2.py3-none-any.whl.metadata (1.6 kB)\n",
      "Collecting dill (from pymc3)\n",
      "  Downloading dill-0.4.0-py3-none-any.whl.metadata (10 kB)\n",
      "Collecting fastprogress>=0.2.0 (from pymc3)\n",
      "  Downloading fastprogress-1.0.3-py3-none-any.whl.metadata (5.6 kB)\n",
      "INFO: pip is looking at multiple versions of pymc3 to determine which version is compatible with other requirements. This could take a while.\n",
      "Collecting pymc3\n",
      "  Downloading pymc3-3.11.5-py3-none-any.whl.metadata (14 kB)\n",
      "  Downloading pymc3-3.11.4-py3-none-any.whl.metadata (14 kB)\n",
      "Collecting patsy>=0.5.1 (from pymc3)\n",
      "  Downloading patsy-1.0.1-py2.py3-none-any.whl.metadata (3.3 kB)\n",
      "Collecting scipy>=1.2.0 (from pymc3)\n",
      "  Downloading scipy-1.16.1-cp313-cp313-win_amd64.whl.metadata (60 kB)\n",
      "Collecting semver>=2.13.0 (from pymc3)\n",
      "  Downloading semver-3.0.4-py3-none-any.whl.metadata (6.8 kB)\n",
      "Collecting theano-pymc==1.1.2 (from pymc3)\n",
      "  Downloading Theano-PyMC-1.1.2.tar.gz (1.8 MB)\n",
      "     ---------------------------------------- 0.0/1.8 MB ? eta -:--:--\n",
      "     ----- ---------------------------------- 0.3/1.8 MB ? eta -:--:--\n",
      "     ----------- ---------------------------- 0.5/1.8 MB 2.1 MB/s eta 0:00:01\n",
      "     ----------------------- ---------------- 1.0/1.8 MB 2.2 MB/s eta 0:00:01\n",
      "     ---------------------------------- ----- 1.6/1.8 MB 2.3 MB/s eta 0:00:01\n",
      "     ---------------------------------------- 1.8/1.8 MB 1.9 MB/s eta 0:00:00\n",
      "  Installing build dependencies: started\n",
      "  Installing build dependencies: finished with status 'done'\n",
      "  Getting requirements to build wheel: started\n",
      "  Getting requirements to build wheel: finished with status 'error'\n"
     ]
    },
    {
     "name": "stderr",
     "output_type": "stream",
     "text": [
      "  error: subprocess-exited-with-error\n",
      "  \n",
      "  Getting requirements to build wheel did not run successfully.\n",
      "  exit code: 1\n",
      "  \n",
      "  [33 lines of output]\n",
      "  C:\\Users\\etale\\AppData\\Local\\Temp\\pip-install-cgez4lwk\\theano-pymc_9e83f19179ea4c398ee23d9f5ae0fc03\\versioneer.py:564: SyntaxWarning: invalid escape sequence '\\s'\n",
      "    mo = re.search(r'=\\s*\"(.*)\"', line)\n",
      "  Traceback (most recent call last):\n",
      "    File \u001b[35m\"C:\\Users\\etale\\Documents\\week10\\venv\\Lib\\site-packages\\pip\\_vendor\\pyproject_hooks\\_in_process\\_in_process.py\"\u001b[0m, line \u001b[35m389\u001b[0m, in \u001b[35m<module>\u001b[0m\n",
      "      \u001b[31mmain\u001b[0m\u001b[1;31m()\u001b[0m\n",
      "      \u001b[31m~~~~\u001b[0m\u001b[1;31m^^\u001b[0m\n",
      "    File \u001b[35m\"C:\\Users\\etale\\Documents\\week10\\venv\\Lib\\site-packages\\pip\\_vendor\\pyproject_hooks\\_in_process\\_in_process.py\"\u001b[0m, line \u001b[35m373\u001b[0m, in \u001b[35mmain\u001b[0m\n",
      "      json_out[\"return_val\"] = \u001b[31mhook\u001b[0m\u001b[1;31m(**hook_input[\"kwargs\"])\u001b[0m\n",
      "                               \u001b[31m~~~~\u001b[0m\u001b[1;31m^^^^^^^^^^^^^^^^^^^^^^^^\u001b[0m\n",
      "    File \u001b[35m\"C:\\Users\\etale\\Documents\\week10\\venv\\Lib\\site-packages\\pip\\_vendor\\pyproject_hooks\\_in_process\\_in_process.py\"\u001b[0m, line \u001b[35m143\u001b[0m, in \u001b[35mget_requires_for_build_wheel\u001b[0m\n",
      "      return hook(config_settings)\n",
      "    File \u001b[35m\"C:\\Users\\etale\\AppData\\Local\\Temp\\pip-build-env-m7hk6lt5\\overlay\\Lib\\site-packages\\setuptools\\build_meta.py\"\u001b[0m, line \u001b[35m331\u001b[0m, in \u001b[35mget_requires_for_build_wheel\u001b[0m\n",
      "      return \u001b[31mself._get_build_requires\u001b[0m\u001b[1;31m(config_settings, requirements=[])\u001b[0m\n",
      "             \u001b[31m~~~~~~~~~~~~~~~~~~~~~~~~\u001b[0m\u001b[1;31m^^^^^^^^^^^^^^^^^^^^^^^^^^^^^^^^^^\u001b[0m\n",
      "    File \u001b[35m\"C:\\Users\\etale\\AppData\\Local\\Temp\\pip-build-env-m7hk6lt5\\overlay\\Lib\\site-packages\\setuptools\\build_meta.py\"\u001b[0m, line \u001b[35m301\u001b[0m, in \u001b[35m_get_build_requires\u001b[0m\n",
      "      \u001b[31mself.run_setup\u001b[0m\u001b[1;31m()\u001b[0m\n",
      "      \u001b[31m~~~~~~~~~~~~~~\u001b[0m\u001b[1;31m^^\u001b[0m\n",
      "    File \u001b[35m\"C:\\Users\\etale\\AppData\\Local\\Temp\\pip-build-env-m7hk6lt5\\overlay\\Lib\\site-packages\\setuptools\\build_meta.py\"\u001b[0m, line \u001b[35m512\u001b[0m, in \u001b[35mrun_setup\u001b[0m\n",
      "      \u001b[31msuper().run_setup\u001b[0m\u001b[1;31m(setup_script=setup_script)\u001b[0m\n",
      "      \u001b[31m~~~~~~~~~~~~~~~~~\u001b[0m\u001b[1;31m^^^^^^^^^^^^^^^^^^^^^^^^^^^\u001b[0m\n",
      "    File \u001b[35m\"C:\\Users\\etale\\AppData\\Local\\Temp\\pip-build-env-m7hk6lt5\\overlay\\Lib\\site-packages\\setuptools\\build_meta.py\"\u001b[0m, line \u001b[35m317\u001b[0m, in \u001b[35mrun_setup\u001b[0m\n",
      "      \u001b[31mexec\u001b[0m\u001b[1;31m(code, locals())\u001b[0m\n",
      "      \u001b[31m~~~~\u001b[0m\u001b[1;31m^^^^^^^^^^^^^^^^\u001b[0m\n",
      "    File \u001b[35m\"<string>\"\u001b[0m, line \u001b[35m49\u001b[0m, in \u001b[35m<module>\u001b[0m\n",
      "    File \u001b[35m\"C:\\Users\\etale\\AppData\\Local\\Temp\\pip-install-cgez4lwk\\theano-pymc_9e83f19179ea4c398ee23d9f5ae0fc03\\versioneer.py\"\u001b[0m, line \u001b[35m1479\u001b[0m, in \u001b[35mget_version\u001b[0m\n",
      "      return \u001b[31mget_versions\u001b[0m\u001b[1;31m()\u001b[0m[\"version\"]\n",
      "             \u001b[31m~~~~~~~~~~~~\u001b[0m\u001b[1;31m^^\u001b[0m\n",
      "    File \u001b[35m\"C:\\Users\\etale\\AppData\\Local\\Temp\\pip-install-cgez4lwk\\theano-pymc_9e83f19179ea4c398ee23d9f5ae0fc03\\versioneer.py\"\u001b[0m, line \u001b[35m1411\u001b[0m, in \u001b[35mget_versions\u001b[0m\n",
      "      cfg = get_config_from_root(root)\n",
      "    File \u001b[35m\"C:\\Users\\etale\\AppData\\Local\\Temp\\pip-install-cgez4lwk\\theano-pymc_9e83f19179ea4c398ee23d9f5ae0fc03\\versioneer.py\"\u001b[0m, line \u001b[35m342\u001b[0m, in \u001b[35mget_config_from_root\u001b[0m\n",
      "      parser = \u001b[1;31mconfigparser.SafeConfigParser\u001b[0m()\n",
      "               \u001b[1;31m^^^^^^^^^^^^^^^^^^^^^^^^^^^^^\u001b[0m\n",
      "  \u001b[1;35mAttributeError\u001b[0m: \u001b[35mmodule 'configparser' has no attribute 'SafeConfigParser'. Did you mean: 'RawConfigParser'?\u001b[0m\n",
      "  [end of output]\n",
      "  \n",
      "  note: This error originates from a subprocess, and is likely not a problem with pip.\n",
      "\n",
      "[notice] A new release of pip is available: 25.1.1 -> 25.2\n",
      "[notice] To update, run: C:\\Users\\etale\\Documents\\week10\\venv\\Scripts\\python.exe -m pip install --upgrade pip\n",
      "error: subprocess-exited-with-error\n",
      "\n",
      "Getting requirements to build wheel did not run successfully.\n",
      "exit code: 1\n",
      "\n",
      "See above for output.\n",
      "\n",
      "note: This error originates from a subprocess, and is likely not a problem with pip.\n"
     ]
    }
   ],
   "source": [
    "!venv\\Scripts\\pip install pandas pymc3 matplotlib"
   ]
  },
  {
   "cell_type": "code",
   "execution_count": 2,
   "id": "449c9009-70ff-43b6-9dc3-dd406dba1cf0",
   "metadata": {},
   "outputs": [],
   "source": [
    "!venv\\Scripts\\pip freeze > requirements.txt"
   ]
  },
  {
   "cell_type": "code",
   "execution_count": 3,
   "id": "0a8c6740-86dd-44f8-9af1-8df167d193de",
   "metadata": {},
   "outputs": [
    {
     "name": "stderr",
     "output_type": "stream",
     "text": [
      "'git' is not recognized as an internal or external command,\n",
      "operable program or batch file.\n"
     ]
    }
   ],
   "source": [
    "!git init"
   ]
  },
  {
   "cell_type": "code",
   "execution_count": null,
   "id": "bfaff9f2-bb57-437a-8d36-47144febb4d5",
   "metadata": {},
   "outputs": [],
   "source": []
  }
 ],
 "metadata": {
  "kernelspec": {
   "display_name": "Python (week10)",
   "language": "python",
   "name": "week10"
  },
  "language_info": {
   "codemirror_mode": {
    "name": "ipython",
    "version": 3
   },
   "file_extension": ".py",
   "mimetype": "text/x-python",
   "name": "python",
   "nbconvert_exporter": "python",
   "pygments_lexer": "ipython3",
   "version": "3.13.5"
  }
 },
 "nbformat": 4,
 "nbformat_minor": 5
}
